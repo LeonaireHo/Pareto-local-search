{
 "cells": [
  {
   "cell_type": "code",
   "execution_count": 1,
   "id": "9ffb8dc3",
   "metadata": {},
   "outputs": [],
   "source": [
    "from pls_es import *\n",
    "nb_objectif = 2\n",
    "file = \"2KP50-TA-0.dat\"\n",
    "w = (0.2,0.8)\n",
    "nb_objet = 20\n",
    "# w = [0.2,0.1,0.2,0.3,0.15,0.05]\n",
    "infos = read_file(file,nb_objectif,nb_objet)\n"
   ]
  },
  {
   "cell_type": "code",
   "execution_count": 2,
   "id": "52df9101",
   "metadata": {},
   "outputs": [
    {
     "name": "stdout",
     "output_type": "stream",
     "text": [
      "Solu_random: 4505.6\n"
     ]
    }
   ],
   "source": [
    "print(\"Solu_random:\",get_v_total(infos,init_p(infos)[0],w = w,model = 'ponderee'))"
   ]
  },
  {
   "cell_type": "markdown",
   "id": "f71afc07",
   "metadata": {},
   "source": [
    "Évaluer à l’aide de plusieurs essais le nombre de questions nécessaires pour identifier la solution optimale pour le décideur."
   ]
  },
  {
   "cell_type": "code",
   "execution_count": 3,
   "id": "eabdfe49",
   "metadata": {},
   "outputs": [
    {
     "name": "stdout",
     "output_type": "stream",
     "text": [
      "Trouver voisins: 14\n",
      "Trouver voisins: 29\n",
      "Trouver voisins: 32\n",
      "Trouver voisins: 16\n",
      "Trouver voisins: 44\n",
      "Trouver voisins: 19\n",
      "Trouver voisins: 18\n",
      "Trouver voisins: 33\n",
      "Trouver voisins: 17\n",
      "Trouver voisins: 16\n",
      "Trouver voisins: 13\n",
      "Trouver voisins: 19\n",
      "Trouver voisins: 17\n",
      "Trouver voisins: 32\n",
      "Trouver voisins: 17\n",
      "Trouver voisins: 17\n",
      "Trouver voisins: 29\n",
      "Trouver voisins: 17\n",
      "Trouver voisins: 20\n",
      "Trouver voisins: 16\n",
      "Trouver voisins: 16\n",
      "Trouver voisins: 17\n",
      "Trouver voisins: 18\n",
      "Trouver voisins: 16\n",
      "Trouver voisins: 18\n",
      "Trouver voisins: 17\n",
      "9  solutions\n"
     ]
    }
   ],
   "source": [
    "pareto_index = PLS(file,nb_objectif = nb_objectif,nb_objet =nb_objet)\n",
    "print(len(pareto_index),\" solutions\")\n",
    "for s in pareto_index:\n",
    "    # print(s)\n",
    "    # print(get_v_total(infos,s,w = (0.2,0.8),model = 'ponderee'))\n",
    "    # print(get_v_total(infos,s,w = (0.2,0.8),model = 'OWA'))\n",
    "    pass"
   ]
  },
  {
   "cell_type": "code",
   "execution_count": 4,
   "id": "3becb8da",
   "metadata": {},
   "outputs": [
    {
     "ename": "TypeError",
     "evalue": "cannot unpack non-iterable NoneType object",
     "output_type": "error",
     "traceback": [
      "\u001b[1;31m---------------------------------------------------------------------------\u001b[0m",
      "\u001b[1;31mTypeError\u001b[0m                                 Traceback (most recent call last)",
      "\u001b[1;32m<ipython-input-4-11ac5ce4fb76>\u001b[0m in \u001b[0;36m<module>\u001b[1;34m\u001b[0m\n\u001b[1;32m----> 1\u001b[1;33m \u001b[0mpareto_index\u001b[0m \u001b[1;33m=\u001b[0m \u001b[0mprocedure1\u001b[0m\u001b[1;33m(\u001b[0m\u001b[0minfos\u001b[0m\u001b[1;33m,\u001b[0m\u001b[0mpareto_index\u001b[0m\u001b[1;33m,\u001b[0m\u001b[0mw\u001b[0m\u001b[1;33m,\u001b[0m\u001b[1;34m'ponderee'\u001b[0m\u001b[1;33m)\u001b[0m\u001b[1;33m\u001b[0m\u001b[1;33m\u001b[0m\u001b[0m\n\u001b[0m\u001b[0;32m      2\u001b[0m \u001b[0mprint\u001b[0m\u001b[1;33m(\u001b[0m\u001b[1;34m\"Procedure2:\"\u001b[0m\u001b[1;33m,\u001b[0m\u001b[0mget_v_total\u001b[0m\u001b[1;33m(\u001b[0m\u001b[0minfos\u001b[0m\u001b[1;33m,\u001b[0m\u001b[0mpareto_index\u001b[0m\u001b[1;33m,\u001b[0m\u001b[0mw\u001b[0m \u001b[1;33m=\u001b[0m \u001b[0mw\u001b[0m\u001b[1;33m,\u001b[0m\u001b[0mmodel\u001b[0m \u001b[1;33m=\u001b[0m \u001b[1;34m'ponderee'\u001b[0m\u001b[1;33m)\u001b[0m\u001b[1;33m)\u001b[0m\u001b[1;33m\u001b[0m\u001b[1;33m\u001b[0m\u001b[0m\n",
      "\u001b[1;32m~\\Desktop\\MADMC\\Pareto-local-search\\pls_es.py\u001b[0m in \u001b[0;36mprocedure1\u001b[1;34m(infos, pareto_index, w, model)\u001b[0m\n\u001b[0;32m     31\u001b[0m     \u001b[1;32mwhile\u001b[0m \u001b[0mlen\u001b[0m\u001b[1;33m(\u001b[0m\u001b[0mpareto_index\u001b[0m\u001b[1;33m)\u001b[0m \u001b[1;33m>\u001b[0m \u001b[1;36m0\u001b[0m\u001b[1;33m:\u001b[0m\u001b[1;31m#and res != old_res:\u001b[0m\u001b[1;33m\u001b[0m\u001b[1;33m\u001b[0m\u001b[0m\n\u001b[0;32m     32\u001b[0m         \u001b[0mold_res\u001b[0m \u001b[1;33m=\u001b[0m \u001b[0mres\u001b[0m\u001b[1;33m\u001b[0m\u001b[1;33m\u001b[0m\u001b[0m\n\u001b[1;32m---> 33\u001b[1;33m         \u001b[0mres\u001b[0m\u001b[1;33m,\u001b[0m\u001b[0m_\u001b[0m \u001b[1;33m=\u001b[0m \u001b[0mMMR\u001b[0m\u001b[1;33m(\u001b[0m\u001b[0minfos\u001b[0m\u001b[1;33m,\u001b[0m\u001b[0mpareto_index\u001b[0m\u001b[1;33m)\u001b[0m\u001b[1;33m\u001b[0m\u001b[1;33m\u001b[0m\u001b[0m\n\u001b[0m\u001b[0;32m     34\u001b[0m         \u001b[0msolu\u001b[0m \u001b[1;33m=\u001b[0m \u001b[0mpareto_index\u001b[0m\u001b[1;33m.\u001b[0m\u001b[0mpop\u001b[0m\u001b[1;33m(\u001b[0m\u001b[0mres\u001b[0m\u001b[1;33m)\u001b[0m\u001b[1;33m\u001b[0m\u001b[1;33m\u001b[0m\u001b[0m\n\u001b[0;32m     35\u001b[0m         \u001b[0mres\u001b[0m \u001b[1;33m=\u001b[0m \u001b[0mchoisir_par_decideur\u001b[0m\u001b[1;33m(\u001b[0m\u001b[0minfos\u001b[0m\u001b[1;33m,\u001b[0m\u001b[0mold_solu\u001b[0m\u001b[1;33m,\u001b[0m\u001b[0msolu\u001b[0m\u001b[1;33m,\u001b[0m\u001b[0mw\u001b[0m\u001b[1;33m,\u001b[0m\u001b[0mmodel\u001b[0m\u001b[1;33m)\u001b[0m\u001b[1;33m\u001b[0m\u001b[1;33m\u001b[0m\u001b[0m\n",
      "\u001b[1;31mTypeError\u001b[0m: cannot unpack non-iterable NoneType object"
     ]
    }
   ],
   "source": [
    "pareto_index = procedure1(infos,pareto_index,w,'ponderee')\n",
    "print(\"Procedure2:\",get_v_total(infos,pareto_index,w = w,model = 'ponderee'))"
   ]
  },
  {
   "cell_type": "code",
   "execution_count": 8,
   "id": "1a3bf2cd",
   "metadata": {},
   "outputs": [
    {
     "name": "stdout",
     "output_type": "stream",
     "text": [
      "Procedure2: 15567.600000000002\n"
     ]
    }
   ],
   "source": [
    "pareto_index = PLS_EI(w,'ponderee',file,nb_objectif = nb_objectif)\n",
    "print(\"Procedure2:\",get_v_total(infos,pareto_index,w = w,model = 'ponderee'))"
   ]
  },
  {
   "cell_type": "code",
   "execution_count": 9,
   "id": "28d08078",
   "metadata": {},
   "outputs": [
    {
     "ename": "AttributeError",
     "evalue": "'dict' object has no attribute 'shape'",
     "output_type": "error",
     "traceback": [
      "\u001b[1;31m---------------------------------------------------------------------------\u001b[0m",
      "\u001b[1;31mAttributeError\u001b[0m                            Traceback (most recent call last)",
      "\u001b[1;32m<ipython-input-9-570f548760b4>\u001b[0m in \u001b[0;36m<module>\u001b[1;34m\u001b[0m\n\u001b[1;32m----> 1\u001b[1;33m \u001b[0mres\u001b[0m \u001b[1;33m=\u001b[0m \u001b[0mprocedure12\u001b[0m\u001b[1;33m(\u001b[0m\u001b[0minfos\u001b[0m\u001b[1;33m,\u001b[0m\u001b[0mpareto_index\u001b[0m\u001b[1;33m,\u001b[0m\u001b[0mw\u001b[0m \u001b[1;33m=\u001b[0m \u001b[0mw\u001b[0m\u001b[1;33m,\u001b[0m\u001b[0mmodel\u001b[0m \u001b[1;33m=\u001b[0m \u001b[1;34m'ponderee'\u001b[0m\u001b[1;33m)\u001b[0m\u001b[1;33m\u001b[0m\u001b[1;33m\u001b[0m\u001b[0m\n\u001b[0m\u001b[0;32m      2\u001b[0m \u001b[0mprint\u001b[0m\u001b[1;33m(\u001b[0m\u001b[1;34m\"Procedure2:\"\u001b[0m\u001b[1;33m,\u001b[0m\u001b[0mget_v_total\u001b[0m\u001b[1;33m(\u001b[0m\u001b[0minfos\u001b[0m\u001b[1;33m,\u001b[0m\u001b[0mres\u001b[0m\u001b[1;33m,\u001b[0m\u001b[0mw\u001b[0m \u001b[1;33m=\u001b[0m \u001b[0mw\u001b[0m\u001b[1;33m,\u001b[0m\u001b[0mmodel\u001b[0m \u001b[1;33m=\u001b[0m \u001b[1;34m'ponderee'\u001b[0m\u001b[1;33m)\u001b[0m\u001b[1;33m)\u001b[0m\u001b[1;33m\u001b[0m\u001b[1;33m\u001b[0m\u001b[0m\n",
      "\u001b[1;32m~\\Desktop\\MADMC\\Pareto-local-search\\pls_es.py\u001b[0m in \u001b[0;36mprocedure12\u001b[1;34m(infos, pareto_index, w, model)\u001b[0m\n\u001b[0;32m     32\u001b[0m     \u001b[1;32mreturn\u001b[0m \u001b[0mres\u001b[0m\u001b[1;33m\u001b[0m\u001b[1;33m\u001b[0m\u001b[0m\n\u001b[0;32m     33\u001b[0m \u001b[1;33m\u001b[0m\u001b[0m\n\u001b[1;32m---> 34\u001b[1;33m \u001b[1;32mdef\u001b[0m \u001b[0mprocedure12\u001b[0m\u001b[1;33m(\u001b[0m\u001b[0minfos\u001b[0m\u001b[1;33m,\u001b[0m\u001b[0mpareto_index\u001b[0m\u001b[1;33m,\u001b[0m\u001b[0mw\u001b[0m\u001b[1;33m,\u001b[0m\u001b[0mmodel\u001b[0m\u001b[1;33m)\u001b[0m\u001b[1;33m:\u001b[0m\u001b[1;33m\u001b[0m\u001b[1;33m\u001b[0m\u001b[0m\n\u001b[0m\u001b[0;32m     35\u001b[0m     \u001b[0mold_res\u001b[0m\u001b[1;33m,\u001b[0m\u001b[0mres\u001b[0m \u001b[1;33m=\u001b[0m \u001b[0mMMR2\u001b[0m\u001b[1;33m(\u001b[0m\u001b[0minfos\u001b[0m\u001b[1;33m,\u001b[0m \u001b[0mpareto_index\u001b[0m\u001b[1;33m)\u001b[0m\u001b[1;33m\u001b[0m\u001b[1;33m\u001b[0m\u001b[0m\n\u001b[0;32m     36\u001b[0m     \u001b[0mprint\u001b[0m\u001b[1;33m(\u001b[0m\u001b[0mpareto_index\u001b[0m\u001b[1;33m)\u001b[0m\u001b[1;33m\u001b[0m\u001b[1;33m\u001b[0m\u001b[0m\n",
      "\u001b[1;32m~\\Desktop\\MADMC\\Pareto-local-search\\tools.py\u001b[0m in \u001b[0;36mMMR2\u001b[1;34m(front, prefs)\u001b[0m\n\u001b[0;32m    152\u001b[0m \u001b[1;33m\u001b[0m\u001b[0m\n\u001b[0;32m    153\u001b[0m     \u001b[1;32mfor\u001b[0m \u001b[0mx_index\u001b[0m \u001b[1;32min\u001b[0m \u001b[0mrange\u001b[0m\u001b[1;33m(\u001b[0m\u001b[0mnb_solution\u001b[0m\u001b[1;33m)\u001b[0m\u001b[1;33m:\u001b[0m\u001b[1;33m\u001b[0m\u001b[1;33m\u001b[0m\u001b[0m\n\u001b[1;32m--> 154\u001b[1;33m \u001b[1;33m\u001b[0m\u001b[0m\n\u001b[0m\u001b[0;32m    155\u001b[0m         \u001b[0my_index\u001b[0m\u001b[1;33m,\u001b[0m \u001b[0my_value\u001b[0m \u001b[1;33m=\u001b[0m \u001b[0mMR\u001b[0m\u001b[1;33m(\u001b[0m\u001b[0mx_index\u001b[0m\u001b[1;33m,\u001b[0m \u001b[0mfront\u001b[0m\u001b[1;33m,\u001b[0m \u001b[0mprefs\u001b[0m\u001b[1;33m)\u001b[0m\u001b[1;33m\u001b[0m\u001b[1;33m\u001b[0m\u001b[0m\n\u001b[0;32m    156\u001b[0m \u001b[1;33m\u001b[0m\u001b[0m\n",
      "\u001b[1;31mAttributeError\u001b[0m: 'dict' object has no attribute 'shape'"
     ]
    }
   ],
   "source": [
    "res = procedure12(infos,pareto_index,w = w,model = 'ponderee')\n",
    "print(\"Procedure2:\",get_v_total(infos,res,w = w,model = 'ponderee'))"
   ]
  },
  {
   "cell_type": "code",
   "execution_count": 10,
   "id": "497c3a9a",
   "metadata": {},
   "outputs": [
    {
     "name": "stdout",
     "output_type": "stream",
     "text": [
      "Procedure2: 15730.0\n"
     ]
    }
   ],
   "source": [
    "pareto_index = PLS_EI(w,'OWA',file,nb_objectif = nb_objectif)\n",
    "print(\"Procedure2:\",get_v_total(infos,pareto_index,w = w,model = 'OWA'))"
   ]
  },
  {
   "cell_type": "code",
   "execution_count": null,
   "id": "11aa2c6c",
   "metadata": {},
   "outputs": [],
   "source": []
  },
  {
   "cell_type": "code",
   "execution_count": 11,
   "id": "4f334c64",
   "metadata": {},
   "outputs": [],
   "source": [
    "import gurobipy as gp\n",
    "def PMROWA(x, y, prefs, verbose = False):\n",
    "\n",
    "    n = x.shape[0]\n",
    "\n",
    "    #OWA\n",
    "    x.sort()\n",
    "    y.sort()\n",
    "\n",
    "    #creation du model\n",
    "    model = gp.Model(\"MMR\")\n",
    "    #creation des variables w\n",
    "    w = [model.addVar(vtype=GRB.CONTINUOUS, name=\"w\"+str(i+1)) for i in range(n)]\n",
    "\n",
    "    model.update()\n",
    "\n",
    "    if not verbose:\n",
    "        model.Params.LogToConsole = 0\n",
    "\n",
    "    #Définition des contraintes\n",
    "\n",
    "    #contrainte 1\n",
    "    for i in range(n):\n",
    "        model.addConstr(w[i]>=0)\n",
    "\n",
    "    #contrainte 2\n",
    "    for i in range(n-1):\n",
    "        model.addConstr(w[i] >= w[i+1])\n",
    "\n",
    "    #contrainte 3\n",
    "    model.addConstr(np.sum(w) == 1)\n",
    "\n",
    "    #contrainte 4\n",
    "    for a, b in prefs:\n",
    "        #OWA\n",
    "        sa = np.sort(a)\n",
    "        sb = np.sort(b)\n",
    "\n",
    "        model.addConstr(np.sum([np.sum(w[i])*sa[i] for i in range(n)]) >= np.sum([np.sum(w[i])*sb[i] for i in range(n)]))\n",
    "\n",
    "    #Définition de l'objectif\n",
    "    obj = gp.LinExpr()\n",
    "    obj = 0\n",
    "\n",
    "    obj = np.sum([ w[i] * y[i] for i in range(n)]) - np.sum( [w[i] * x[i] for i in range(n)])\n",
    "\n",
    "    model.setObjective(obj,GRB.MAXIMIZE)\n",
    "\n",
    "    #Run l'optimiseur\n",
    "    model.optimize()\n",
    "\n",
    "    return obj.getValue()"
   ]
  },
  {
   "cell_type": "code",
   "execution_count": 12,
   "id": "e456efa6",
   "metadata": {},
   "outputs": [],
   "source": [
    "def MR(x, front, prefs):\n",
    "\n",
    "    nb_solution = front.shape[0]\n",
    "\n",
    "    max_value = float('-inf')\n",
    "    max_index = -1\n",
    "\n",
    "    for y_index in range(nb_solution):\n",
    "\n",
    "        if y_index == x:\n",
    "            continue\n",
    "\n",
    "        value = PMR_OWA(front[x], front[y_index], prefs)\n",
    "\n",
    "        if value > max_value:\n",
    "            max_value = value\n",
    "            max_index = y_index\n",
    "\n",
    "    return max_index, max_value"
   ]
  },
  {
   "cell_type": "code",
   "execution_count": 13,
   "id": "70219b97",
   "metadata": {},
   "outputs": [],
   "source": [
    "def MMR(front, prefs):\n",
    "\n",
    "    nb_solution = front.shape[0]\n",
    "\n",
    "    min_value = float('inf')\n",
    "    min_x_index = -1\n",
    "    min_y_index = -1\n",
    "\n",
    "    for x_index in tqdm(range(nb_solution)):\n",
    "\n",
    "        y_index, y_value = MR(x_index, front, prefs)\n",
    "\n",
    "        if y_value < min_value:\n",
    "            min_value = y_value\n",
    "            min_x_index = x_index\n",
    "            min_y_index = y_index\n",
    "\n",
    "    return min_x_index, min_y_index, min_value"
   ]
  },
  {
   "cell_type": "code",
   "execution_count": null,
   "id": "bcc5e47a",
   "metadata": {},
   "outputs": [],
   "source": []
  }
 ],
 "metadata": {
  "kernelspec": {
   "display_name": "Python 3",
   "language": "python",
   "name": "python3"
  },
  "language_info": {
   "codemirror_mode": {
    "name": "ipython",
    "version": 3
   },
   "file_extension": ".py",
   "mimetype": "text/x-python",
   "name": "python",
   "nbconvert_exporter": "python",
   "pygments_lexer": "ipython3",
   "version": "3.8.8"
  }
 },
 "nbformat": 4,
 "nbformat_minor": 5
}
