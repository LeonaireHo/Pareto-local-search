{
 "cells": [
  {
   "cell_type": "code",
   "execution_count": 9,
   "id": "9ffb8dc3",
   "metadata": {},
   "outputs": [],
   "source": [
    "from pls_es import *\n",
    "nb_objectif = 2\n",
    "file = \"2KP50-TA-0.dat\"\n",
    "w = (0.2,0.8)\n",
    "# w = [0.2,0.1,0.2,0.3,0.15,0.05]\n",
    "infos = read_file(file,nb_objectif)\n"
   ]
  },
  {
   "cell_type": "code",
   "execution_count": 10,
   "id": "52df9101",
   "metadata": {},
   "outputs": [
    {
     "name": "stdout",
     "output_type": "stream",
     "text": [
      "Solu_random: 13495.0\n"
     ]
    }
   ],
   "source": [
    "print(\"Solu_random:\",get_v_total(infos,init_p(infos)[0],w = w,model = 'ponderee'))"
   ]
  },
  {
   "cell_type": "code",
   "execution_count": 17,
   "id": "eabdfe49",
   "metadata": {},
   "outputs": [
    {
     "name": "stdout",
     "output_type": "stream",
     "text": [
      "26  solutions\n"
     ]
    }
   ],
   "source": [
    "pareto_index = PLS(file,nb_objectif = nb_objectif)\n",
    "print(len(pareto_index),\" solutions\")\n",
    "for s in pareto_index:\n",
    "    # print(s)\n",
    "    # print(get_v_total(infos,s,w = (0.2,0.8),model = 'ponderee'))\n",
    "    # print(get_v_total(infos,s,w = (0.2,0.8),model = 'OWA'))\n",
    "    pass"
   ]
  },
  {
   "cell_type": "code",
   "execution_count": 24,
   "id": "3becb8da",
   "metadata": {},
   "outputs": [
    {
     "name": "stdout",
     "output_type": "stream",
     "text": [
      "27  solutions\n",
      "Procedure1: 19069.0\n"
     ]
    }
   ],
   "source": [
    "pareto_index = PLS(file,nb_objectif = nb_objectif)\n",
    "print(len(pareto_index),\" solutions\")\n",
    "for s in pareto_index:\n",
    "    # print(s)\n",
    "    # print(get_v_total(infos,s,w = (0.2,0.8),model = 'ponderee'))\n",
    "    # print(get_v_total(infos,s,w = (0.2,0.8),model = 'OWA'))\n",
    "    pass\n",
    "res = procedure1(infos,pareto_index,w = w,model = 'ponderee')\n",
    "print(\"Procedure1:\",get_v_total(infos,res,w = w,model = 'ponderee'))\n"
   ]
  },
  {
   "cell_type": "code",
   "execution_count": 32,
   "id": "1a3bf2cd",
   "metadata": {},
   "outputs": [
    {
     "name": "stdout",
     "output_type": "stream",
     "text": [
      "Procedure2: 12813.000000000002\n"
     ]
    }
   ],
   "source": [
    "pareto_index = PLS_EI(w,'ponderee',file,nb_objectif = nb_objectif)\n",
    "print(\"Procedure2:\",get_v_total(infos,pareto_index,w = w,model = 'ponderee'))"
   ]
  },
  {
   "cell_type": "code",
   "execution_count": 34,
   "id": "78079f8e",
   "metadata": {},
   "outputs": [
    {
     "name": "stdout",
     "output_type": "stream",
     "text": [
      "Procedure2: 14600.0\n"
     ]
    }
   ],
   "source": [
    "pareto_index = PLS_EI(w,'OWA',file,nb_objectif = nb_objectif)\n",
    "print(\"Procedure2:\",get_v_total(infos,pareto_index,w = w,model = 'OWA'))"
   ]
  },
  {
   "cell_type": "code",
   "execution_count": null,
   "id": "a4403aca",
   "metadata": {},
   "outputs": [],
   "source": []
  }
 ],
 "metadata": {
  "kernelspec": {
   "display_name": "Python 3",
   "language": "python",
   "name": "python3"
  },
  "language_info": {
   "codemirror_mode": {
    "name": "ipython",
    "version": 3
   },
   "file_extension": ".py",
   "mimetype": "text/x-python",
   "name": "python",
   "nbconvert_exporter": "python",
   "pygments_lexer": "ipython3",
   "version": "3.8.8"
  }
 },
 "nbformat": 4,
 "nbformat_minor": 5
}
